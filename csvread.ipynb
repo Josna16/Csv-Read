{
 "cells": [
  {
   "cell_type": "code",
   "execution_count": 33,
   "metadata": {},
   "outputs": [
    {
     "name": "stdout",
     "output_type": "stream",
     "text": [
      "The number of rows is 1048576\n",
      "Fields are:anzsic06,Area,year,geo_count,ec_count\n",
      "The first five rows are:\n",
      "Row number: 1\n",
      "         A\n",
      "   A100100\n",
      "      2000\n",
      "        96\n",
      "       130\n",
      "\n",
      "\n",
      "Row number: 2\n",
      "         A\n",
      "   A100200\n",
      "      2000\n",
      "       198\n",
      "       110\n",
      "\n",
      "\n",
      "Row number: 3\n",
      "         A\n",
      "   A100300\n",
      "      2000\n",
      "        42\n",
      "        25\n",
      "\n",
      "\n",
      "Row number: 4\n",
      "         A\n",
      "   A100400\n",
      "      2000\n",
      "        66\n",
      "        40\n",
      "\n",
      "\n"
     ]
    }
   ],
   "source": [
    "import csv\n",
    "import itertools\n",
    "filename=\"E:\\Data Science\\extra\\ws1.csv\"\n",
    "rows=[]\n",
    "with open(filename,\"r\") as file:\n",
    "    csvreader=csv.reader(file)\n",
    "    for row in csvreader:\n",
    "        rows.append(row)\n",
    "print(\"The number of rows is\",csvreader.line_num)\n",
    "print(\"Fields are:\"+\",\".join(i for i in rows[0]))\n",
    "print(\"The first five rows are:\")\n",
    "for (i,row) in zip([1,2,3,4,5],rows[1:5]):\n",
    "    print(\"Row number:\",i)\n",
    "    for i in row:\n",
    "        print(\"%10s\"%i)\n",
    "    print(\"\\n\")"
   ]
  },
  {
   "cell_type": "code",
   "execution_count": null,
   "metadata": {},
   "outputs": [],
   "source": []
  },
  {
   "cell_type": "code",
   "execution_count": null,
   "metadata": {},
   "outputs": [],
   "source": []
  },
  {
   "cell_type": "code",
   "execution_count": null,
   "metadata": {},
   "outputs": [],
   "source": []
  }
 ],
 "metadata": {
  "kernelspec": {
   "display_name": "Python 3",
   "language": "python",
   "name": "python3"
  },
  "language_info": {
   "codemirror_mode": {
    "name": "ipython",
    "version": 3
   },
   "file_extension": ".py",
   "mimetype": "text/x-python",
   "name": "python",
   "nbconvert_exporter": "python",
   "pygments_lexer": "ipython3",
   "version": "3.7.6"
  }
 },
 "nbformat": 4,
 "nbformat_minor": 4
}
